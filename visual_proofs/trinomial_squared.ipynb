{
 "cells": [
  {
   "cell_type": "code",
   "execution_count": 1,
   "id": "1dad2b5d",
   "metadata": {
    "ExecuteTime": {
     "end_time": "2025-08-05T21:40:27.612417Z",
     "start_time": "2025-08-05T21:40:26.990729Z"
    }
   },
   "outputs": [],
   "source": [
    "import matplotlib.pyplot as plt\n",
    "import matplotlib.patches as patches\n",
    "import matplotlib.animation as animation\n",
    "from matplotlib.animation import FFMpegWriter\n",
    "from IPython.display import HTML\n",
    "\n",
    "def create_trinomial_animation(a=1, b=1.2, c=1.5, fps=5, width_cm=14.3, height_cm=25.4, y_offset=-1.5):\n",
    "    L = a + b + c\n",
    "    pause_frames = fps\n",
    "\n",
    "    colors = {\n",
    "        r'$a^2$': '#e63946cc',\n",
    "        r'$b^2$': '#457b9dcc',\n",
    "        r'$c^2$': '#2a9d8fcc',\n",
    "        r'$ab$':  '#9b5de5cc',\n",
    "        r'$ac$':  '#f4a261cc',\n",
    "        r'$bc$':  '#e9c46acc',\n",
    "    }\n",
    "\n",
    "    ordered_regions = [\n",
    "        (r'$a^2$', (0, L - a + y_offset), a, a),\n",
    "        (r'$b^2$', (a, L - a - b + y_offset), b, b),\n",
    "        (r'$c^2$', (a + b, 0 + y_offset), c, c),\n",
    "        (r'$ab$', (0, L - a - b + y_offset), a, b),\n",
    "        (r'$ab$', (a, L - a + y_offset), b, a),\n",
    "        (r'$ac$', (0, 0 + y_offset), a, c),\n",
    "        (r'$ac$', (a + b, L - a + y_offset), c, a),\n",
    "        (r'$bc$', (a + b, L - a - b + y_offset), c, b),\n",
    "        (r'$bc$', (a, 0 + y_offset), b, c)\n",
    "    ]\n",
    "\n",
    "    appearance_schedule = [i * pause_frames for i in range(len(ordered_regions))]\n",
    "    eq_frame = appearance_schedule[-1] + pause_frames\n",
    "    total_frames = eq_frame + pause_frames + 10\n",
    "\n",
    "    fig, ax = plt.subplots(figsize=(width_cm / 2.54, height_cm / 2.54))\n",
    "    fig.patch.set_facecolor('black')\n",
    "    ax.set_facecolor('black')\n",
    "    ax.set_aspect('equal')\n",
    "    ax.axis('off')\n",
    "    ax.set_xlim(0, L)\n",
    "    ax.set_ylim(-1.2, L + 0.6)\n",
    "\n",
    "    patches_list = []\n",
    "\n",
    "    def init():\n",
    "        return []\n",
    "\n",
    "    def animate_spaced(i):\n",
    "        artists = []\n",
    "\n",
    "        if i == 0:\n",
    "            eq_main = r'$(a + b + c)^2 = a^2 + b^2 + c^2 + 2ab + 2ac + 2bc$'\n",
    "            eq_text = ax.text(L / 2, L + 0.3, eq_main, ha='center', fontsize=16, color='white')\n",
    "            artists.append(eq_text)\n",
    "\n",
    "        for idx, frame_start in enumerate(appearance_schedule):\n",
    "            if i >= frame_start:\n",
    "                label, (x, y), w, h = ordered_regions[idx]\n",
    "                if idx >= len(patches_list):\n",
    "                    face_color = colors[label]\n",
    "                    rect = patches.Rectangle((x, y), w, h, linewidth=2.5, edgecolor='white',\n",
    "                                             facecolor=face_color, alpha=0.0)\n",
    "                    ax.add_patch(rect)\n",
    "                    txt = ax.text(x + w / 2, y + h / 2, label, va='center', ha='center',\n",
    "                                  fontsize=14, color='white', alpha=0.0)\n",
    "\n",
    "                    def fade(k, rect=rect, txt=txt, frame_start=frame_start):\n",
    "                        alpha = max(0.0, min(1.0, (k - frame_start) / 8))\n",
    "                        rect.set_alpha(alpha)\n",
    "                        txt.set_alpha(alpha)\n",
    "                        return [rect, txt]\n",
    "\n",
    "                    patches_list.append((rect, txt, fade))\n",
    "\n",
    "                rect, txt, fade_func = patches_list[idx]\n",
    "                artists += fade_func(i)\n",
    "\n",
    "        return artists\n",
    "\n",
    "    ani = animation.FuncAnimation(fig, animate_spaced, init_func=init,\n",
    "                                  frames=total_frames, interval=1000 // fps, blit=False)\n",
    "    plt.close(fig)  \n",
    "    return ani, fig"
   ]
  },
  {
   "cell_type": "code",
   "execution_count": 5,
   "id": "3f342811",
   "metadata": {
    "ExecuteTime": {
     "end_time": "2025-08-05T21:42:41.371825Z",
     "start_time": "2025-08-05T21:42:41.339334Z"
    },
    "scrolled": false
   },
   "outputs": [],
   "source": [
    "fps = 4\n",
    "ani, fig = create_trinomial_animation(a=1, b=1.2, c=1.5,fps=fps,width_cm=14.3,height_cm=25.4,y_offset=-0.25)\n",
    "#HTML(ani.to_jshtml())\n"
   ]
  },
  {
   "cell_type": "code",
   "execution_count": 7,
   "id": "8aecd86f",
   "metadata": {
    "ExecuteTime": {
     "end_time": "2025-08-05T21:46:18.573820Z",
     "start_time": "2025-08-05T21:46:07.287091Z"
    }
   },
   "outputs": [],
   "source": [
    "ani, fig = create_trinomial_animation()\n",
    "ani.save(\"trinomial_square.mp4\", writer=FFMpegWriter(fps=fps), dpi=500)\n",
    "#plt.close(fig)"
   ]
  },
  {
   "cell_type": "code",
   "execution_count": null,
   "id": "b867f070",
   "metadata": {},
   "outputs": [],
   "source": []
  }
 ],
 "metadata": {
  "kernelspec": {
   "display_name": "Python 3 (ipykernel)",
   "language": "python",
   "name": "python3"
  },
  "language_info": {
   "codemirror_mode": {
    "name": "ipython",
    "version": 3
   },
   "file_extension": ".py",
   "mimetype": "text/x-python",
   "name": "python",
   "nbconvert_exporter": "python",
   "pygments_lexer": "ipython3",
   "version": "3.9.13"
  }
 },
 "nbformat": 4,
 "nbformat_minor": 5
}
