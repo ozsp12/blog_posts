{
 "cells": [
  {
   "cell_type": "markdown",
   "id": "517f3729",
   "metadata": {
    "ExecuteTime": {
     "end_time": "2025-08-03T13:57:35.242986Z",
     "start_time": "2025-08-03T13:57:35.223958Z"
    }
   },
   "source": [
    "# Anagramas\n",
    "\n",
    "Na construção de uma carreira sólida como programador, é fundamental desenvolver a habilidade de resolver problemas de forma clara, estruturada e eficiente. Exercícios simples, como a detecção de anagramas, ajudam a consolidar conceitos essenciais como manipulação de strings, uso de estruturas de dados e lógica de programação.\n",
    "\n",
    "Considere o seguinte problema: dadas duas strings `s1` e `s2`, determine se uma é um anagrama da outra. Ou seja, ambas devem conter exatamente os mesmos caracteres, com as mesmas frequências, independentemente da ordem.\n"
   ]
  },
  {
   "cell_type": "code",
   "execution_count": 1,
   "id": "24132581",
   "metadata": {
    "ExecuteTime": {
     "end_time": "2025-08-03T14:12:31.879906Z",
     "start_time": "2025-08-03T14:12:31.866053Z"
    }
   },
   "outputs": [],
   "source": [
    "def anagram(s1, s2):\n",
    "    def count_chars(s):\n",
    "        h = {}\n",
    "        for char in s:\n",
    "            if char in h:\n",
    "                h[char] += 1\n",
    "            else:\n",
    "                h[char] = 1\n",
    "        return h\n",
    "\n",
    "    return count_chars(s1) == count_chars(s2)"
   ]
  },
  {
   "cell_type": "markdown",
   "id": "40674c9b",
   "metadata": {},
   "source": [
    "A função `count_chars` percorre cada caractere da string e monta um dicionário com a contagem de ocorrências. Ao comparar os dois dicionários, verificamos se as strings são anagramas.\n",
    "\n",
    "A função `show_anagram_result` abaixo imprime se uma string é anagrama da outra de forma legível.\n"
   ]
  },
  {
   "cell_type": "code",
   "execution_count": 2,
   "id": "f8bcc1b2",
   "metadata": {
    "ExecuteTime": {
     "end_time": "2025-08-03T14:12:31.895991Z",
     "start_time": "2025-08-03T14:12:31.881889Z"
    }
   },
   "outputs": [],
   "source": [
    "def show_anagram_result(s1, s2):\n",
    "    result = anagram(s1, s2)\n",
    "    if result:\n",
    "        print(f'\"{s2}\" é anagrama de \"{s1}\".')\n",
    "    else:\n",
    "        print(f'\"{s2}\" não é anagrama de \"{s1}\".')"
   ]
  },
  {
   "cell_type": "code",
   "execution_count": 3,
   "id": "9c23c03f",
   "metadata": {
    "ExecuteTime": {
     "end_time": "2025-08-03T14:12:31.911032Z",
     "start_time": "2025-08-03T14:12:31.898499Z"
    }
   },
   "outputs": [
    {
     "name": "stdout",
     "output_type": "stream",
     "text": [
      "\"silent\" é anagrama de \"listen\".\n",
      "\"brainy\" é anagrama de \"binary\".\n",
      "\"baccab\" é anagrama de \"aabbcc\".\n",
      "\"cab\" é anagrama de \"abc\".\n",
      "\"aaa\" é anagrama de \"aaa\".\n",
      "\"holle\" é anagrama de \"hello\".\n",
      "\"abaann\" é anagrama de \"banana\".\n"
     ]
    }
   ],
   "source": [
    "# Casos que devem retornar True\n",
    "show_anagram_result(\"listen\", \"silent\")\n",
    "show_anagram_result(\"binary\", \"brainy\")\n",
    "show_anagram_result(\"aabbcc\", \"baccab\")\n",
    "show_anagram_result(\"abc\", \"cab\")\n",
    "show_anagram_result(\"aaa\", \"aaa\")\n",
    "show_anagram_result(\"hello\", \"holle\")\n",
    "show_anagram_result(\"banana\", \"abaann\")"
   ]
  },
  {
   "cell_type": "code",
   "execution_count": 4,
   "id": "851150be",
   "metadata": {
    "ExecuteTime": {
     "end_time": "2025-08-03T14:12:31.926079Z",
     "start_time": "2025-08-03T14:12:31.912046Z"
    }
   },
   "outputs": [
    {
     "name": "stdout",
     "output_type": "stream",
     "text": [
      "\"ttew\" não é anagrama de \"test\".\n",
      "\"abcd\" não é anagrama de \"abc\".\n",
      "\"nothpyy\" não é anagrama de \"python\".\n",
      "\"acd\" não é anagrama de \"abc\".\n",
      "\"def\" não é anagrama de \"abc\".\n"
     ]
    }
   ],
   "source": [
    "# Casos que devem retornar False\n",
    "show_anagram_result(\"test\", \"ttew\")\n",
    "show_anagram_result(\"abc\", \"abcd\")\n",
    "show_anagram_result(\"python\", \"nothpyy\")\n",
    "show_anagram_result(\"abc\", \"acd\")\n",
    "show_anagram_result(\"abc\", \"def\")"
   ]
  },
  {
   "cell_type": "markdown",
   "id": "92672626",
   "metadata": {},
   "source": [
    "# Referências\n",
    "\n",
    "1. Cormen, T. H., Leiserson, C. E., Rivest, R. L., & Stein, C. (2009). *Introduction to Algorithms* (3rd ed.). MIT Press.  \n",
    "2. Sedgewick, R., & Wayne, K. (2011). *Algorithms* (4th ed.). Addison-Wesley.  \n",
    "3. Skiena, S. S. (2008). *The Algorithm Design Manual* (2nd ed.). Springer.  \n",
    "4. https://leetcode.com/problems/valid-anagram/  \n",
    "5. https://www.hackerrank.com/  \n",
    "6. https://www.geeksforgeeks.org/check-whether-two-strings-are-anagram-of-each-other/  "
   ]
  },
  {
   "cell_type": "code",
   "execution_count": null,
   "id": "f84998a9",
   "metadata": {},
   "outputs": [],
   "source": []
  }
 ],
 "metadata": {
  "kernelspec": {
   "display_name": "Python 3 (ipykernel)",
   "language": "python",
   "name": "python3"
  },
  "language_info": {
   "codemirror_mode": {
    "name": "ipython",
    "version": 3
   },
   "file_extension": ".py",
   "mimetype": "text/x-python",
   "name": "python",
   "nbconvert_exporter": "python",
   "pygments_lexer": "ipython3",
   "version": "3.9.13"
  }
 },
 "nbformat": 4,
 "nbformat_minor": 5
}
